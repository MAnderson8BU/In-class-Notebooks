{
 "cells": [
  {
   "cell_type": "markdown",
   "id": "73943399",
   "metadata": {},
   "source": [
    "# 6. Working with Dictionaries\n",
    "* A dictionary in Python is a collection of key-value pairs. \n",
    "* Each key is connected to a value, and you can use a key to access the value associated with that key.\n",
    "* A key’s value can be a number, a string, a list, or even another dictionary.\n",
    "\n",
    "* `Key` is the unique identifier to find data and the `value` is the data\n",
    "\n",
    "* A dictionary is a collection which is ordered*, changeable and does not allow duplicates.\n",
    "\n",
    "* Unlike strings, lists, and tuples, **dictionaries are not sequences** - the data are not stored in order. \n",
    "* List can be represented by [ ], Tuple can be represented by ( ), Dictionary  can be represented by { }"
   ]
  },
  {
   "cell_type": "code",
   "execution_count": 1,
   "id": "05999d3a",
   "metadata": {},
   "outputs": [
    {
     "data": {
      "text/plain": [
       "dict"
      ]
     },
     "execution_count": 1,
     "metadata": {},
     "output_type": "execute_result"
    }
   ],
   "source": [
    "# Empty Dictionary\n",
    "Dict={}\n",
    "type(Dict)"
   ]
  },
  {
   "cell_type": "code",
   "execution_count": 2,
   "id": "88e3e9ba",
   "metadata": {},
   "outputs": [
    {
     "data": {
      "text/plain": [
       "dict"
      ]
     },
     "execution_count": 2,
     "metadata": {},
     "output_type": "execute_result"
    }
   ],
   "source": [
    "Dict1=dict()\n",
    "type(Dict1)"
   ]
  },
  {
   "cell_type": "code",
   "execution_count": 3,
   "id": "5d25b2cb",
   "metadata": {},
   "outputs": [],
   "source": [
    "data={'Alabama':'Montgomery',\n",
    "     'Arizona':'Pheonix',\n",
    "     'Georgia':'Atlanta',\n",
    "     'Kentucky':'Frantfort',\n",
    "     'Ohio':'Columbus'}"
   ]
  },
  {
   "cell_type": "markdown",
   "id": "4be8c616",
   "metadata": {},
   "source": [
    "### Access `values` from a dictionary using key\n",
    "* Key and values can be any data types\n",
    "* Accessing key value not present in dictionary generated KeyError"
   ]
  },
  {
   "cell_type": "code",
   "execution_count": 5,
   "id": "aab3f949",
   "metadata": {},
   "outputs": [
    {
     "data": {
      "text/plain": [
       "'Columbus'"
      ]
     },
     "execution_count": 5,
     "metadata": {},
     "output_type": "execute_result"
    }
   ],
   "source": [
    "data['Ohio']"
   ]
  },
  {
   "cell_type": "code",
   "execution_count": 6,
   "id": "fe9e3886",
   "metadata": {},
   "outputs": [
    {
     "data": {
      "text/plain": [
       "'Atlanta'"
      ]
     },
     "execution_count": 6,
     "metadata": {},
     "output_type": "execute_result"
    }
   ],
   "source": [
    "data['Georgia']"
   ]
  },
  {
   "cell_type": "code",
   "execution_count": 8,
   "id": "e4eb565d",
   "metadata": {},
   "outputs": [],
   "source": [
    "#data['New york'] Will generate a keyError if the key si not present in the dictionary"
   ]
  },
  {
   "cell_type": "markdown",
   "id": "bc6af6fc",
   "metadata": {},
   "source": [
    "### Update elements of a dictionary and add new elements"
   ]
  },
  {
   "cell_type": "code",
   "execution_count": 1,
   "id": "f62f227f",
   "metadata": {},
   "outputs": [],
   "source": [
    "day={1: 'Monday',\n",
    "    2: 'Tuesday',\n",
    "    4: ('Thursday','Friday'),\n",
    "    5: ['Saturday','Sunday']}"
   ]
  },
  {
   "cell_type": "code",
   "execution_count": 2,
   "id": "560dd19f",
   "metadata": {},
   "outputs": [
    {
     "data": {
      "text/plain": [
       "'Thursday'"
      ]
     },
     "execution_count": 2,
     "metadata": {},
     "output_type": "execute_result"
    }
   ],
   "source": [
    "#thursday\n",
    "day[4][0]   #day[key][index]"
   ]
  },
  {
   "cell_type": "code",
   "execution_count": 14,
   "id": "7f07b100",
   "metadata": {},
   "outputs": [
    {
     "data": {
      "text/plain": [
       "'Sunday'"
      ]
     },
     "execution_count": 14,
     "metadata": {},
     "output_type": "execute_result"
    }
   ],
   "source": [
    "#Sunday\n",
    "day[5][1]"
   ]
  },
  {
   "cell_type": "code",
   "execution_count": 12,
   "id": "e30ad316",
   "metadata": {},
   "outputs": [],
   "source": [
    "day[3]='Wednesday'"
   ]
  },
  {
   "cell_type": "code",
   "execution_count": 16,
   "id": "a6c1c3c1",
   "metadata": {},
   "outputs": [
    {
     "name": "stdout",
     "output_type": "stream",
     "text": [
      "{1: 'Monday', 2: 'Tuesday', 4: ('Thursday', 'Friday'), 5: ['Saturday', 'Sunday'], 3: 'Wednesday'}\n"
     ]
    }
   ],
   "source": [
    "print(day)"
   ]
  },
  {
   "cell_type": "code",
   "execution_count": 3,
   "id": "17223e8a",
   "metadata": {},
   "outputs": [
    {
     "name": "stdout",
     "output_type": "stream",
     "text": [
      "{1: 'Monday', 2: 'Tuesday', 4: ('Thursday', 'Friday'), 5: ['Holiday', 'Sunday']}\n"
     ]
    }
   ],
   "source": [
    "#Update saturday to holiday\n",
    "day[5][0]='Holiday'\n",
    "print(day)"
   ]
  },
  {
   "cell_type": "code",
   "execution_count": 4,
   "id": "6bd16872",
   "metadata": {},
   "outputs": [
    {
     "name": "stdout",
     "output_type": "stream",
     "text": [
      "{1: 'Monday', 2: 'Tuesday', 4: ('Thursday', 'Friday'), 5: ['Holiday', 'Holiday']}\n"
     ]
    }
   ],
   "source": [
    "#Update sunday to holiday\n",
    "day[5][1]='Holiday'\n",
    "print(day)"
   ]
  },
  {
   "cell_type": "code",
   "execution_count": 6,
   "id": "20f25718",
   "metadata": {},
   "outputs": [],
   "source": [
    "#Update Thursday to holiday\n",
    "#day[4][0]='holiday' Cannot update a tuple"
   ]
  },
  {
   "cell_type": "markdown",
   "id": "f7bb990f",
   "metadata": {},
   "source": [
    "### `get` and `update` methods\n",
    "- get use to access a value from dictionary\n",
    "- update the dictionary with new value also update the old value"
   ]
  },
  {
   "cell_type": "code",
   "execution_count": 13,
   "id": "071c6f12",
   "metadata": {},
   "outputs": [
    {
     "data": {
      "text/plain": [
       "'Wednesday'"
      ]
     },
     "execution_count": 13,
     "metadata": {},
     "output_type": "execute_result"
    }
   ],
   "source": [
    "# Return wednesday\n",
    "day.get(3)"
   ]
  },
  {
   "cell_type": "code",
   "execution_count": 11,
   "id": "10cd3add",
   "metadata": {},
   "outputs": [
    {
     "data": {
      "text/plain": [
       "'Monday'"
      ]
     },
     "execution_count": 11,
     "metadata": {},
     "output_type": "execute_result"
    }
   ],
   "source": [
    "day.get(1)"
   ]
  },
  {
   "cell_type": "code",
   "execution_count": 14,
   "id": "afdf81cb",
   "metadata": {},
   "outputs": [],
   "source": [
    "day.get(6)  #Not generating an error if the key is not present in the dictionary"
   ]
  },
  {
   "cell_type": "code",
   "execution_count": 16,
   "id": "c99acf1a",
   "metadata": {},
   "outputs": [],
   "source": [
    "#day(6) Typeerror"
   ]
  },
  {
   "cell_type": "code",
   "execution_count": 17,
   "id": "ebc3b904",
   "metadata": {},
   "outputs": [
    {
     "data": {
      "text/plain": [
       "{1: 'Monday',\n",
       " 2: 'Tuesday',\n",
       " 4: ('Thursday', 'Friday'),\n",
       " 5: ['Holiday', 'Holiday'],\n",
       " 3: 'Wednesday'}"
      ]
     },
     "execution_count": 17,
     "metadata": {},
     "output_type": "execute_result"
    }
   ],
   "source": [
    "day"
   ]
  },
  {
   "cell_type": "code",
   "execution_count": 18,
   "id": "fc64b2ed",
   "metadata": {},
   "outputs": [],
   "source": [
    "data={'Alabama':'Montgomery',\n",
    "     'Arizona':'Pheonix',\n",
    "     'Georgia':'Atlanta',\n",
    "     'Kentucky':'Frantfort',\n",
    "     'Ohio':'Columbus'}"
   ]
  },
  {
   "cell_type": "code",
   "execution_count": 20,
   "id": "e3993e4c",
   "metadata": {},
   "outputs": [
    {
     "data": {
      "text/plain": [
       "{'Alabama': 'Montgomery',\n",
       " 'Arizona': 'Pheonix',\n",
       " 'Georgia': 'Atlanta',\n",
       " 'Kentucky': 'Louisville',\n",
       " 'Ohio': 'Columbus'}"
      ]
     },
     "execution_count": 20,
     "metadata": {},
     "output_type": "execute_result"
    }
   ],
   "source": [
    "data.update({'Kentucky':'Louisville'})\n",
    "data"
   ]
  },
  {
   "cell_type": "code",
   "execution_count": 21,
   "id": "d2720e28",
   "metadata": {},
   "outputs": [
    {
     "data": {
      "text/plain": [
       "{'Alabama': 'Montgomery',\n",
       " 'Arizona': 'Pheonix',\n",
       " 'Georgia': 'Atlanta',\n",
       " 'Kentucky': 'Louisville',\n",
       " 'Ohio': 'Columbus',\n",
       " 'Louisiana': 'Baton Rouge'}"
      ]
     },
     "execution_count": 21,
     "metadata": {},
     "output_type": "execute_result"
    }
   ],
   "source": [
    "#New entry\n",
    "data.update({'Louisiana':'Baton Rouge'})\n",
    "data"
   ]
  },
  {
   "cell_type": "code",
   "execution_count": 23,
   "id": "e41f16b1",
   "metadata": {},
   "outputs": [
    {
     "data": {
      "text/plain": [
       "{'Alabama': 'Montgomery',\n",
       " 'Arizona': 'Pheonix',\n",
       " 'Georgia': 'Atlanta',\n",
       " 'Kentucky': 'Frankfort',\n",
       " 'Ohio': 'Columbus',\n",
       " 'Louisiana': 'Baton Rouge',\n",
       " 'Missouri': 'Jefferson City'}"
      ]
     },
     "execution_count": 23,
     "metadata": {},
     "output_type": "execute_result"
    }
   ],
   "source": [
    "data.update({'Missouri':'Jefferson City',\n",
    "             'Kentucky':'Frankfort'})\n",
    "data"
   ]
  },
  {
   "cell_type": "markdown",
   "id": "18536626",
   "metadata": {},
   "source": [
    "### Delete dictionary items using `del` and `pop`"
   ]
  },
  {
   "cell_type": "code",
   "execution_count": 24,
   "id": "b491f7d6",
   "metadata": {},
   "outputs": [
    {
     "data": {
      "text/plain": [
       "{'Arizona': 'Pheonix',\n",
       " 'Georgia': 'Atlanta',\n",
       " 'Kentucky': 'Frankfort',\n",
       " 'Ohio': 'Columbus',\n",
       " 'Louisiana': 'Baton Rouge',\n",
       " 'Missouri': 'Jefferson City'}"
      ]
     },
     "execution_count": 24,
     "metadata": {},
     "output_type": "execute_result"
    }
   ],
   "source": [
    "# Delete Alabama using del method\n",
    "del data['Alabama']\n",
    "data"
   ]
  },
  {
   "cell_type": "code",
   "execution_count": 25,
   "id": "536c3ffa",
   "metadata": {},
   "outputs": [
    {
     "data": {
      "text/plain": [
       "'Columbus'"
      ]
     },
     "execution_count": 25,
     "metadata": {},
     "output_type": "execute_result"
    }
   ],
   "source": [
    "#Delete Ohio using pop\n",
    "data.pop('Ohio')"
   ]
  },
  {
   "cell_type": "code",
   "execution_count": 26,
   "id": "c0d0f092",
   "metadata": {},
   "outputs": [
    {
     "data": {
      "text/plain": [
       "{'Arizona': 'Pheonix',\n",
       " 'Georgia': 'Atlanta',\n",
       " 'Kentucky': 'Frankfort',\n",
       " 'Louisiana': 'Baton Rouge',\n",
       " 'Missouri': 'Jefferson City'}"
      ]
     },
     "execution_count": 26,
     "metadata": {},
     "output_type": "execute_result"
    }
   ],
   "source": [
    "data"
   ]
  },
  {
   "cell_type": "code",
   "execution_count": 27,
   "id": "9dc318a4",
   "metadata": {},
   "outputs": [],
   "source": [
    "# Delete the entire dictionary\n",
    "del data"
   ]
  },
  {
   "cell_type": "code",
   "execution_count": 29,
   "id": "ed437d5f",
   "metadata": {},
   "outputs": [],
   "source": [
    "#data #Name error because dictionary not present"
   ]
  },
  {
   "cell_type": "markdown",
   "id": "610aae76",
   "metadata": {},
   "source": [
    "### Number of elements in the dictionary and extracting `keys()`, `values()`, `items()`"
   ]
  },
  {
   "cell_type": "code",
   "execution_count": 30,
   "id": "f13bd3ba",
   "metadata": {},
   "outputs": [],
   "source": [
    "data={'Alabama':'Montgomery',\n",
    "     'Arizona':'Pheonix',\n",
    "     'Georgia':'Atlanta',\n",
    "     'Kentucky':'Frantfort',\n",
    "     'Ohio':'Columbus'}"
   ]
  },
  {
   "cell_type": "code",
   "execution_count": 31,
   "id": "1d31365f",
   "metadata": {},
   "outputs": [
    {
     "data": {
      "text/plain": [
       "dict_keys(['Alabama', 'Arizona', 'Georgia', 'Kentucky', 'Ohio'])"
      ]
     },
     "execution_count": 31,
     "metadata": {},
     "output_type": "execute_result"
    }
   ],
   "source": [
    "data.keys()"
   ]
  },
  {
   "cell_type": "code",
   "execution_count": 32,
   "id": "0db183c4",
   "metadata": {},
   "outputs": [
    {
     "data": {
      "text/plain": [
       "dict_values(['Montgomery', 'Pheonix', 'Atlanta', 'Frantfort', 'Columbus'])"
      ]
     },
     "execution_count": 32,
     "metadata": {},
     "output_type": "execute_result"
    }
   ],
   "source": [
    "data.values()"
   ]
  },
  {
   "cell_type": "code",
   "execution_count": 33,
   "id": "a1c19204",
   "metadata": {},
   "outputs": [
    {
     "data": {
      "text/plain": [
       "dict_items([('Alabama', 'Montgomery'), ('Arizona', 'Pheonix'), ('Georgia', 'Atlanta'), ('Kentucky', 'Frantfort'), ('Ohio', 'Columbus')])"
      ]
     },
     "execution_count": 33,
     "metadata": {},
     "output_type": "execute_result"
    }
   ],
   "source": [
    "data.items()"
   ]
  },
  {
   "cell_type": "markdown",
   "id": "ab9e78f2",
   "metadata": {},
   "source": [
    "### Loop through a dictionary for loop"
   ]
  },
  {
   "cell_type": "code",
   "execution_count": 35,
   "id": "941bf04e",
   "metadata": {},
   "outputs": [
    {
     "name": "stdout",
     "output_type": "stream",
     "text": [
      "Alabama\n",
      "<class 'str'>\n",
      "Arizona\n",
      "<class 'str'>\n",
      "Georgia\n",
      "<class 'str'>\n",
      "Kentucky\n",
      "<class 'str'>\n",
      "Ohio\n",
      "<class 'str'>\n"
     ]
    }
   ],
   "source": [
    "# unpack the dictionary keys\n",
    "for i in data.keys():\n",
    "    print(i)\n",
    "    print(type(i))"
   ]
  },
  {
   "cell_type": "code",
   "execution_count": 36,
   "id": "fe239e39",
   "metadata": {},
   "outputs": [
    {
     "name": "stdout",
     "output_type": "stream",
     "text": [
      "Montgomery\n",
      "Pheonix\n",
      "Atlanta\n",
      "Frantfort\n",
      "Columbus\n"
     ]
    }
   ],
   "source": [
    "#Unpack the dictionary values\n",
    "for j in data.values():\n",
    "    print(j)\n",
    "    "
   ]
  },
  {
   "cell_type": "code",
   "execution_count": 38,
   "id": "c0746d46",
   "metadata": {},
   "outputs": [
    {
     "name": "stdout",
     "output_type": "stream",
     "text": [
      "('Alabama', 'Montgomery')\n",
      "<class 'tuple'>\n",
      "('Arizona', 'Pheonix')\n",
      "<class 'tuple'>\n",
      "('Georgia', 'Atlanta')\n",
      "<class 'tuple'>\n",
      "('Kentucky', 'Frantfort')\n",
      "<class 'tuple'>\n",
      "('Ohio', 'Columbus')\n",
      "<class 'tuple'>\n"
     ]
    }
   ],
   "source": [
    "# Dictionary Items\n",
    "for k in data.items():\n",
    "    print(k)\n",
    "    print(type(k))"
   ]
  },
  {
   "cell_type": "code",
   "execution_count": 40,
   "id": "e07995b1",
   "metadata": {},
   "outputs": [
    {
     "name": "stdout",
     "output_type": "stream",
     "text": [
      "State: Alabama\n",
      "Capitol: Montgomery\n",
      "State: Arizona\n",
      "Capitol: Pheonix\n",
      "State: Georgia\n",
      "Capitol: Atlanta\n",
      "State: Kentucky\n",
      "Capitol: Frantfort\n",
      "State: Ohio\n",
      "Capitol: Columbus\n"
     ]
    }
   ],
   "source": [
    "#unpack dictionary items\n",
    "for j,k in data.items():\n",
    "    print(\"State:\", j)\n",
    "    print(\"Capitol:\", k)"
   ]
  },
  {
   "cell_type": "markdown",
   "id": "82ec7aff",
   "metadata": {},
   "source": [
    "### Convert dictionary to lists using `list()` function"
   ]
  },
  {
   "cell_type": "code",
   "execution_count": 41,
   "id": "afcede6e",
   "metadata": {},
   "outputs": [
    {
     "data": {
      "text/plain": [
       "{'Alabama': 'Montgomery',\n",
       " 'Arizona': 'Pheonix',\n",
       " 'Georgia': 'Atlanta',\n",
       " 'Kentucky': 'Frantfort',\n",
       " 'Ohio': 'Columbus'}"
      ]
     },
     "execution_count": 41,
     "metadata": {},
     "output_type": "execute_result"
    }
   ],
   "source": [
    "data"
   ]
  },
  {
   "cell_type": "code",
   "execution_count": 44,
   "id": "b85f9771",
   "metadata": {},
   "outputs": [
    {
     "data": {
      "text/plain": [
       "['Alabama', 'Arizona', 'Georgia', 'Kentucky', 'Ohio']"
      ]
     },
     "execution_count": 44,
     "metadata": {},
     "output_type": "execute_result"
    }
   ],
   "source": [
    "# Dictionary keys to a list\n",
    "list(data.keys())"
   ]
  },
  {
   "cell_type": "code",
   "execution_count": 45,
   "id": "1513a1e3",
   "metadata": {},
   "outputs": [
    {
     "data": {
      "text/plain": [
       "['Montgomery', 'Pheonix', 'Atlanta', 'Frantfort', 'Columbus']"
      ]
     },
     "execution_count": 45,
     "metadata": {},
     "output_type": "execute_result"
    }
   ],
   "source": [
    "# Convert Dictionary values to a list\n",
    "list(data.values())"
   ]
  },
  {
   "cell_type": "code",
   "execution_count": null,
   "id": "59ec3714",
   "metadata": {},
   "outputs": [],
   "source": []
  },
  {
   "cell_type": "markdown",
   "id": "d13131c6",
   "metadata": {},
   "source": [
    "### A List in a Dictionary: How to unpack all of the entries?"
   ]
  },
  {
   "cell_type": "code",
   "execution_count": 48,
   "id": "cd81cd95",
   "metadata": {},
   "outputs": [],
   "source": [
    "fav_language={'jen':['python','ruby'],\n",
    "             'sarah':['c'],\n",
    "             'edward':['ruby','java'],\n",
    "             'phil':['python','java']}"
   ]
  },
  {
   "cell_type": "code",
   "execution_count": 49,
   "id": "1d594da7",
   "metadata": {},
   "outputs": [
    {
     "data": {
      "text/plain": [
       "{'jen': ['python', 'ruby'],\n",
       " 'sarah': ['c'],\n",
       " 'edward': ['ruby', 'java'],\n",
       " 'phil': ['python', 'java']}"
      ]
     },
     "execution_count": 49,
     "metadata": {},
     "output_type": "execute_result"
    }
   ],
   "source": [
    "fav_language"
   ]
  },
  {
   "cell_type": "code",
   "execution_count": 55,
   "id": "e9a96ec4",
   "metadata": {},
   "outputs": [
    {
     "name": "stdout",
     "output_type": "stream",
     "text": [
      "The name is : Jen. The favorite languages are:\n",
      "\t\t\t\t\t\t python\n",
      "\t\t\t\t\t\t ruby\n",
      "The name is : Sarah. The favorite languages are:\n",
      "\t\t\t\t\t\t c\n",
      "The name is : Edward. The favorite languages are:\n",
      "\t\t\t\t\t\t ruby\n",
      "\t\t\t\t\t\t java\n",
      "The name is : Phil. The favorite languages are:\n",
      "\t\t\t\t\t\t python\n",
      "\t\t\t\t\t\t java\n"
     ]
    }
   ],
   "source": [
    "for name, subjects in fav_language.items():\n",
    "    print(f\"The name is : {name.title()}. The favorite languages are:\")\n",
    "    \n",
    "    for i in subjects:\n",
    "        print(\"\\t\\t\\t\\t\\t\\t\",i)\n",
    "    "
   ]
  },
  {
   "cell_type": "code",
   "execution_count": null,
   "id": "9796242d",
   "metadata": {},
   "outputs": [],
   "source": []
  },
  {
   "cell_type": "markdown",
   "id": "7543bcaf",
   "metadata": {},
   "source": [
    "###  A Dictionary in a Dictionary"
   ]
  },
  {
   "cell_type": "code",
   "execution_count": 56,
   "id": "5716262d",
   "metadata": {},
   "outputs": [],
   "source": [
    "user={'est':{'first':'albert','last':'einstein','location':'princeton'},'mcurie':{'first':'marie','last':'curie','location':'paris'}}"
   ]
  },
  {
   "cell_type": "code",
   "execution_count": 57,
   "id": "7aaca1c4",
   "metadata": {},
   "outputs": [
    {
     "data": {
      "text/plain": [
       "{'est': {'first': 'albert', 'last': 'einstein', 'location': 'princeton'},\n",
       " 'mcurie': {'first': 'marie', 'last': 'curie', 'location': 'paris'}}"
      ]
     },
     "execution_count": 57,
     "metadata": {},
     "output_type": "execute_result"
    }
   ],
   "source": [
    "user"
   ]
  },
  {
   "cell_type": "code",
   "execution_count": 58,
   "id": "1f2be939",
   "metadata": {},
   "outputs": [
    {
     "data": {
      "text/plain": [
       "'albert'"
      ]
     },
     "execution_count": 58,
     "metadata": {},
     "output_type": "execute_result"
    }
   ],
   "source": [
    "#albert\n",
    "user['est']['first']"
   ]
  },
  {
   "cell_type": "code",
   "execution_count": 59,
   "id": "0423f393",
   "metadata": {},
   "outputs": [
    {
     "data": {
      "text/plain": [
       "'paris'"
      ]
     },
     "execution_count": 59,
     "metadata": {},
     "output_type": "execute_result"
    }
   ],
   "source": [
    "#paris\n",
    "user['mcurie']['location']"
   ]
  },
  {
   "cell_type": "code",
   "execution_count": 65,
   "id": "91946772",
   "metadata": {},
   "outputs": [
    {
     "name": "stdout",
     "output_type": "stream",
     "text": [
      "Username: est\n",
      "Full name: albert einstein\n",
      "location:  princeton\n",
      "Username: mcurie\n",
      "Full name: marie curie\n",
      "location:  paris\n"
     ]
    }
   ],
   "source": [
    "for username, user_info in user.items():\n",
    "    print(\"Username:\",username)\n",
    "    #print(user_info)\n",
    "    full_name=user_info['first']+\" \"+user_info['last']\n",
    "    print(\"Full name:\",full_name)\n",
    "    print(\"location: \", user_info['location'])"
   ]
  },
  {
   "cell_type": "code",
   "execution_count": null,
   "id": "98efaf9e",
   "metadata": {},
   "outputs": [],
   "source": []
  }
 ],
 "metadata": {
  "kernelspec": {
   "display_name": "Python 3 (ipykernel)",
   "language": "python",
   "name": "python3"
  },
  "language_info": {
   "codemirror_mode": {
    "name": "ipython",
    "version": 3
   },
   "file_extension": ".py",
   "mimetype": "text/x-python",
   "name": "python",
   "nbconvert_exporter": "python",
   "pygments_lexer": "ipython3",
   "version": "3.11.4"
  }
 },
 "nbformat": 4,
 "nbformat_minor": 5
}
