{
 "cells": [
  {
   "cell_type": "markdown",
   "id": "d0aff7be",
   "metadata": {},
   "source": [
    "1. Create a list of 10 numbers and find out the minimum, maximum, and total (sum) of the list."
   ]
  },
  {
   "cell_type": "code",
   "execution_count": 2,
   "id": "976acc14",
   "metadata": {},
   "outputs": [
    {
     "data": {
      "text/plain": [
       "1"
      ]
     },
     "execution_count": 2,
     "metadata": {},
     "output_type": "execute_result"
    }
   ],
   "source": [
    "numbers=[1,2,3,4,5,6,7,8,9,10]\n",
    "min(numbers)\n"
   ]
  },
  {
   "cell_type": "code",
   "execution_count": 3,
   "id": "774ca9ae",
   "metadata": {},
   "outputs": [
    {
     "data": {
      "text/plain": [
       "10"
      ]
     },
     "execution_count": 3,
     "metadata": {},
     "output_type": "execute_result"
    }
   ],
   "source": [
    "max(numbers)"
   ]
  },
  {
   "cell_type": "code",
   "execution_count": 4,
   "id": "df4f7520",
   "metadata": {},
   "outputs": [
    {
     "data": {
      "text/plain": [
       "55"
      ]
     },
     "execution_count": 4,
     "metadata": {},
     "output_type": "execute_result"
    }
   ],
   "source": [
    "sum(numbers)"
   ]
  },
  {
   "cell_type": "markdown",
   "id": "a3d61acb",
   "metadata": {},
   "source": [
    "2. What is a nested If statement? Get input from a user and check whether the number is odd or not. If the number is odd it is also less than or equal to 20. If not, then print relevant information."
   ]
  },
  {
   "cell_type": "code",
   "execution_count": 7,
   "id": "5b820f8c",
   "metadata": {},
   "outputs": [
    {
     "name": "stdout",
     "output_type": "stream",
     "text": [
      "Enter an input: 15\n",
      "The number is odd and less than or equal to 20\n"
     ]
    }
   ],
   "source": [
    "data=int(input(\"Enter an input: \"))\n",
    "\n",
    "if data%2==1:\n",
    "    if data<=20:\n",
    "        print(\"The number is odd and less than or equal to 20\")\n",
    "    else:\n",
    "            print(\"The number is odd but greater than 20\")\n",
    "else:\n",
    "    print(\"The number is even\")"
   ]
  },
  {
   "cell_type": "markdown",
   "id": "88d424c2",
   "metadata": {},
   "source": [
    "3. Get a user input of an integer number and check if the given number is a multiple of 11 or not. "
   ]
  },
  {
   "cell_type": "code",
   "execution_count": 9,
   "id": "6ffe41ed",
   "metadata": {},
   "outputs": [
    {
     "name": "stdout",
     "output_type": "stream",
     "text": [
      "Enter a number: 122\n",
      "The number is not a multiple of 11\n"
     ]
    }
   ],
   "source": [
    "data=int(input(\"Enter a number: \"))\n",
    "if data%11==0:\n",
    "    print(\"The number is a multiple of 11\")\n",
    "else:\n",
    "    print(\"The number is not a multiple of 11\")"
   ]
  },
  {
   "cell_type": "markdown",
   "id": "c21f785c",
   "metadata": {},
   "source": [
    "5. In the United States, as of 1995, a minor is generally legally defined as a person under the age of 18. Write a code to check whether a student is a minor or not where the input will be given by users.\n",
    "\n",
    "\n"
   ]
  },
  {
   "cell_type": "code",
   "execution_count": 18,
   "id": "f840c3e2",
   "metadata": {},
   "outputs": [
    {
     "name": "stdout",
     "output_type": "stream",
     "text": [
      "Enter your age: 80\n",
      "The user is an adult\n"
     ]
    }
   ],
   "source": [
    "age=int(input(\"Enter your age: \"))\n",
    "if age>=18:\n",
    "    print(\"The user is an adult\")\n",
    "elif age<0:\n",
    "    print(\"Enter a valid age\")\n",
    "else:\n",
    "    print(\"The user is a minor\")"
   ]
  },
  {
   "cell_type": "markdown",
   "id": "f19ab73f",
   "metadata": {},
   "source": [
    "8. Write down a program using a for loop that prints all numbers from 1 to 15 and adds them to a list called numbers_list. \n",
    "\n",
    "numbers_list=[1,2,3,4,...15]\n",
    "\n"
   ]
  },
  {
   "cell_type": "code",
   "execution_count": 15,
   "id": "5d22c173",
   "metadata": {},
   "outputs": [
    {
     "name": "stdout",
     "output_type": "stream",
     "text": [
      "[1, 2, 3, 4, 5, 6, 7, 8, 9, 10, 11, 12, 13, 14, 15]\n"
     ]
    }
   ],
   "source": [
    "numbers_list=[i for i in range(1,16)]\n",
    "print(numbers_list)"
   ]
  },
  {
   "cell_type": "code",
   "execution_count": null,
   "id": "a3a52bfa",
   "metadata": {},
   "outputs": [],
   "source": []
  }
 ],
 "metadata": {
  "kernelspec": {
   "display_name": "Python 3 (ipykernel)",
   "language": "python",
   "name": "python3"
  },
  "language_info": {
   "codemirror_mode": {
    "name": "ipython",
    "version": 3
   },
   "file_extension": ".py",
   "mimetype": "text/x-python",
   "name": "python",
   "nbconvert_exporter": "python",
   "pygments_lexer": "ipython3",
   "version": "3.11.4"
  }
 },
 "nbformat": 4,
 "nbformat_minor": 5
}
